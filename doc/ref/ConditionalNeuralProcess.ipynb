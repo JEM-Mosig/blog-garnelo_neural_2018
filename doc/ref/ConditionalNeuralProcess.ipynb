{
 "cells": [
  {
   "cell_type": "code",
   "execution_count": 1,
   "metadata": {},
   "outputs": [],
   "source": [
    "import glob\n",
    "import sys\n",
    "sys.path.append(\"../../\")"
   ]
  },
  {
   "cell_type": "code",
   "execution_count": 2,
   "metadata": {},
   "outputs": [],
   "source": [
    "SAVE_PATH = \"../storage/ref/cnp.ckpt\""
   ]
  },
  {
   "cell_type": "markdown",
   "metadata": {},
   "source": [
    "# ConditionalNeuralProcess"
   ]
  },
  {
   "cell_type": "code",
   "execution_count": 3,
   "metadata": {},
   "outputs": [],
   "source": [
    "import tensorflow as tf"
   ]
  },
  {
   "cell_type": "code",
   "execution_count": 4,
   "metadata": {},
   "outputs": [
    {
     "data": {
      "text/plain": [
       "'1.13.1'"
      ]
     },
     "execution_count": 4,
     "metadata": {},
     "output_type": "execute_result"
    }
   ],
   "source": [
    "tf.logging.set_verbosity(tf.logging.ERROR)  # Suppress depreciation warnings\n",
    "tf.__version__"
   ]
  },
  {
   "cell_type": "code",
   "execution_count": 5,
   "metadata": {},
   "outputs": [
    {
     "name": "stdout",
     "output_type": "stream",
     "text": [
      "\n",
      "WARNING: The TensorFlow contrib module will not be included in TensorFlow 2.0.\n",
      "For more information, please see:\n",
      "  * https://github.com/tensorflow/community/blob/master/rfcs/20180907-contrib-sunset.md\n",
      "  * https://github.com/tensorflow/addons\n",
      "If you depend on functionality not listed there, please file an issue.\n",
      "\n"
     ]
    }
   ],
   "source": [
    "from neuralprocesses.np.aux import DataProvider\n",
    "from neuralprocesses.utils.gp import GaussianProcess\n",
    "from neuralprocesses.utils.gp import squared_exponential_kernel\n",
    "from neuralprocesses.utils.tf_utils import tf_sort_by_col\n",
    "from neuralprocesses.utils.plotting import list_plot\n",
    "from neuralprocesses.utils.plotting import Color\n",
    "\n",
    "from neuralprocesses.np.cnp import ConditionalNeuralProcess"
   ]
  },
  {
   "cell_type": "markdown",
   "metadata": {},
   "source": [
    "## Basic example"
   ]
  },
  {
   "cell_type": "code",
   "execution_count": 6,
   "metadata": {},
   "outputs": [],
   "source": [
    "tf.reset_default_graph()\n",
    "tf.set_random_seed(2019)"
   ]
  },
  {
   "cell_type": "code",
   "execution_count": 7,
   "metadata": {},
   "outputs": [],
   "source": [
    "BATCH_SIZE = 32"
   ]
  },
  {
   "cell_type": "code",
   "execution_count": 8,
   "metadata": {},
   "outputs": [],
   "source": [
    "plotting_mode = tf.placeholder(dtype=tf.bool, name=\"plotting_mode\")\n",
    "process = GaussianProcess(squared_exponential_kernel)\n",
    "data_provider = DataProvider(process, batch_size=BATCH_SIZE, plot_settings={\"num_context\": 5})"
   ]
  },
  {
   "cell_type": "code",
   "execution_count": 9,
   "metadata": {},
   "outputs": [],
   "source": [
    "data = data_provider(plotting_mode=plotting_mode)\n",
    "cnp = ConditionalNeuralProcess(name=\"CNP\")"
   ]
  },
  {
   "cell_type": "code",
   "execution_count": 10,
   "metadata": {},
   "outputs": [],
   "source": [
    "mean, variance, loss = cnp(data)"
   ]
  },
  {
   "cell_type": "code",
   "execution_count": 11,
   "metadata": {},
   "outputs": [],
   "source": [
    "with tf.variable_scope(\"trainer\"):\n",
    "    optimizer = tf.train.AdamOptimizer()\n",
    "    training_step = optimizer.minimize(loss)"
   ]
  },
  {
   "cell_type": "code",
   "execution_count": 12,
   "metadata": {},
   "outputs": [],
   "source": [
    "with tf.variable_scope(\"plot\"):\n",
    "    x_context = data.queries[0][0][0]\n",
    "    y_context = data.queries[0][1][0]\n",
    "    x_target = data.queries[1][0]\n",
    "    plot_context = tf_sort_by_col(tf.stack([x_context, y_context], axis=1), 0)\n",
    "    plot_predictions_mean = tf_sort_by_col(tf.stack([x_target, mean[0]], axis=1), 0)\n",
    "    plot_predictions_max = tf_sort_by_col(tf.stack([x_target, mean[0] + tf.sqrt(variance[0])], axis=1), 0)\n",
    "    plot_predictions_min = tf_sort_by_col(tf.stack([x_target, mean[0] - tf.sqrt(variance[0])], axis=1), 0)"
   ]
  },
  {
   "cell_type": "code",
   "execution_count": 13,
   "metadata": {},
   "outputs": [],
   "source": [
    "init = tf.global_variables_initializer()\n",
    "saver = tf.train.Saver()"
   ]
  },
  {
   "cell_type": "markdown",
   "metadata": {},
   "source": [
    "Train the CNP model:"
   ]
  },
  {
   "cell_type": "code",
   "execution_count": 14,
   "metadata": {},
   "outputs": [],
   "source": [
    "from tqdm import tqdm"
   ]
  },
  {
   "cell_type": "code",
   "execution_count": 15,
   "metadata": {},
   "outputs": [
    {
     "name": "stderr",
     "output_type": "stream",
     "text": [
      "100%|██████████| 100000/100000 [07:47<00:00, 176.98it/s]\n"
     ]
    },
    {
     "name": "stdout",
     "output_type": "stream",
     "text": [
      "Model saved in: ../storage/ref/cnp.ckpt\n"
     ]
    },
    {
     "data": {
      "image/png": "[encoded data removed]",
      "text/plain": [
       "<Figure size 432x288 with 1 Axes>"
      ]
     },
     "metadata": {
      "needs_background": "light"
     },
     "output_type": "display_data"
    }
   ],
   "source": [
    "NUM_EPISODES = 100000\n",
    "SAVE_STEP = 10000\n",
    "\n",
    "with tf.Session() as session:\n",
    "    \n",
    "    # Check if we already ran this code\n",
    "    if len(glob.glob(SAVE_PATH + \"*\")) > 0:\n",
    "        # Restore weights and settings from past run\n",
    "        print(f\"Restoring model from: {SAVE_PATH}\")\n",
    "        saver.restore(session, SAVE_PATH)\n",
    "    else:    \n",
    "        # Initialize variables\n",
    "        init = tf.global_variables_initializer()\n",
    "        saver = tf.train.Saver(\n",
    "            tf.get_collection(tf.GraphKeys.GLOBAL_VARIABLES, scope=\"CNP\"), \n",
    "            max_to_keep=4, \n",
    "            keep_checkpoint_every_n_hours=1\n",
    "        )\n",
    "        session.run(init)\n",
    "\n",
    "        # Do training\n",
    "        for episode in tqdm(range(NUM_EPISODES)):\n",
    "            session.run(training_step, feed_dict={plotting_mode: False})\n",
    "            \n",
    "            if episode % SAVE_STEP == 0 or episode == NUM_EPISODES - 1:\n",
    "                saver.save(session, SAVE_PATH, global_step=episode)\n",
    "    \n",
    "        # Save resulting graph\n",
    "        print(f\"Model saved in: {saver.save(session, SAVE_PATH)}\")\n",
    "\n",
    "    # Compute a test case for plotting\n",
    "    ctxt, xy, xymax, xymin = session.run([\n",
    "        plot_context, plot_predictions_mean, \n",
    "        plot_predictions_max, plot_predictions_min],\n",
    "        feed_dict={plotting_mode: True}\n",
    "    )\n",
    "    \n",
    "    # Plot the result\n",
    "    list_plot([xy, xymin, xymax, ctxt],\n",
    "          joined=[True,True,True,False], \n",
    "          mesh=[False,False,False,True],\n",
    "          plot_style=[\n",
    "              # Mean in black\n",
    "              Color((0,0,0)),  \n",
    "              # Confidence interval bounds in blue\n",
    "              Color.color_data(n=1),\n",
    "              Color.color_data(n=1),\n",
    "              # Context points as Red crosses\n",
    "              {\"Color\": Color.color_data(n=0), \"Marker\": \"+\", \"PointSize\": 300}\n",
    "          ],\n",
    "          axes_label=(\"x\", \"y\"),\n",
    "          filling=[[1,2]]\n",
    "    )"
   ]
  },
  {
   "cell_type": "markdown",
   "metadata": {},
   "source": [
    "Run the trained model with your favourite context points:"
   ]
  },
  {
   "cell_type": "code",
   "execution_count": 16,
   "metadata": {},
   "outputs": [],
   "source": [
    "from neuralprocesses.np.aux import RegressionInput"
   ]
  },
  {
   "cell_type": "code",
   "execution_count": 17,
   "metadata": {},
   "outputs": [],
   "source": [
    "import numpy as np"
   ]
  },
  {
   "cell_type": "code",
   "execution_count": 18,
   "metadata": {},
   "outputs": [],
   "source": [
    "def predict(xc, yc):\n",
    "    with tf.Session() as session:\n",
    "        saver.restore(session, SAVE_PATH)\n",
    "        \n",
    "        xt = np.arange(-1., 1.01, 0.01)\n",
    "        batch_size = BATCH_SIZE  # ToDo: How can we change the batch size after loading?\n",
    "\n",
    "        # Compute a test case for plotting\n",
    "        ctxt, xy, xymax, xymin = session.run([\n",
    "            plot_context, plot_predictions_mean, \n",
    "            plot_predictions_max, plot_predictions_min],\n",
    "            feed_dict={\n",
    "                plotting_mode: True,\n",
    "                data.queries[0][0]: [xc for b in range(batch_size)],\n",
    "                data.queries[0][1]: [yc for b in range(batch_size)],\n",
    "                data.queries[1]: [xt for b in range(batch_size)],\n",
    "                data.num_context: len(xc),\n",
    "                data.num_target: len(xt)\n",
    "            }\n",
    "        )\n",
    "\n",
    "        # Plot the result\n",
    "        list_plot([xy, xymin, xymax, ctxt],\n",
    "              joined=[True,True,True,False], \n",
    "              mesh=[False,False,False,True],\n",
    "              plot_style=[\n",
    "                  # Mean in black\n",
    "                  Color((0,0,0)),  \n",
    "                  # Confidence interval bounds in blue\n",
    "                  Color.color_data(n=1),\n",
    "                  Color.color_data(n=1),\n",
    "                  # Context points as Red crosses\n",
    "                  {\"Color\": Color.color_data(n=0), \"Marker\": \"+\", \"PointSize\": 300}\n",
    "              ],\n",
    "              axes_label=(\"x\", \"y\"),\n",
    "              filling=[[1,2]]\n",
    "        )"
   ]
  },
  {
   "cell_type": "code",
   "execution_count": 19,
   "metadata": {},
   "outputs": [
    {
     "data": {
      "image/png": "[encoded data removed]",
      "text/plain": [
       "<Figure size 432x288 with 1 Axes>"
      ]
     },
     "metadata": {
      "needs_background": "light"
     },
     "output_type": "display_data"
    }
   ],
   "source": [
    "predict([-0.4, -0.1], [0.5, 0.3])"
   ]
  },
  {
   "cell_type": "code",
   "execution_count": null,
   "metadata": {},
   "outputs": [],
   "source": []
  }
 ],
 "metadata": {
  "kernelspec": {
   "display_name": "Python 3",
   "language": "python",
   "name": "python3"
  },
  "language_info": {
   "codemirror_mode": {
    "name": "ipython",
    "version": 3
   },
   "file_extension": ".py",
   "mimetype": "text/x-python",
   "name": "python",
   "nbconvert_exporter": "python",
   "pygments_lexer": "ipython3",
   "version": "3.6.7"
  }
 },
 "nbformat": 4,
 "nbformat_minor": 2
}
