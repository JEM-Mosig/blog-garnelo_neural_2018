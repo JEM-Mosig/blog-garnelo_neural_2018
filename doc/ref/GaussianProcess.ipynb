{
 "cells": [
  {
   "cell_type": "code",
   "execution_count": 1,
   "metadata": {},
   "outputs": [],
   "source": [
    "import sys\n",
    "sys.path.append(\"../../\")"
   ]
  },
  {
   "cell_type": "markdown",
   "metadata": {},
   "source": [
    "# GaussianProcess"
   ]
  },
  {
   "cell_type": "code",
   "execution_count": 2,
   "metadata": {},
   "outputs": [],
   "source": [
    "from neuralprocesses.utils.gp import GaussianProcess\n",
    "from neuralprocesses.utils.gp import squared_exponential_kernel\n",
    "\n",
    "import tensorflow as tf"
   ]
  },
  {
   "cell_type": "markdown",
   "metadata": {},
   "source": [
    "## Basic example"
   ]
  },
  {
   "cell_type": "markdown",
   "metadata": {},
   "source": [
    "Choose the x-coordinates."
   ]
  },
  {
   "cell_type": "code",
   "execution_count": 3,
   "metadata": {},
   "outputs": [],
   "source": [
    "x_target = tf.constant([list(range(50))], dtype=tf.float32)\n",
    "queries = (None, x_target)"
   ]
  },
  {
   "cell_type": "markdown",
   "metadata": {},
   "source": [
    "Setup a Gaussian process with a squared-exponential kernel of correlation length 10."
   ]
  },
  {
   "cell_type": "code",
   "execution_count": 4,
   "metadata": {},
   "outputs": [],
   "source": [
    "gp = GaussianProcess(queries, lambda x: squared_exponential_kernel(x, 10.))"
   ]
  },
  {
   "cell_type": "markdown",
   "metadata": {},
   "source": [
    "Compute a sample of y-values and stack them with the x-values."
   ]
  },
  {
   "cell_type": "code",
   "execution_count": 5,
   "metadata": {},
   "outputs": [],
   "source": [
    "with tf.variable_scope(\"f\"):\n",
    "    f = tf.transpose(tf.reshape(tf.stack([gp.coordinates, gp.sample]), (2, -1)))"
   ]
  },
  {
   "cell_type": "markdown",
   "metadata": {},
   "source": [
    "Run this Tensorflow graph and print the first few rows of the result."
   ]
  },
  {
   "cell_type": "code",
   "execution_count": 6,
   "metadata": {
    "scrolled": true
   },
   "outputs": [
    {
     "name": "stdout",
     "output_type": "stream",
     "text": [
      "[[ 0.         -0.49628335]\n",
      " [ 1.         -0.3295097 ]\n",
      " [ 2.         -0.1406706 ]\n",
      " [ 3.          0.02143124]\n",
      " [ 4.          0.20234454]]\n"
     ]
    }
   ],
   "source": [
    "with tf.Session() as session:\n",
    "    result = session.run(f)\n",
    "\n",
    "print(result[:5, :])"
   ]
  },
  {
   "cell_type": "markdown",
   "metadata": {},
   "source": [
    "Plot the function that we just sampled from the GP."
   ]
  },
  {
   "cell_type": "code",
   "execution_count": 7,
   "metadata": {},
   "outputs": [],
   "source": [
    "from neuralprocesses.utils.plotting import list_plot"
   ]
  },
  {
   "cell_type": "code",
   "execution_count": 8,
   "metadata": {},
   "outputs": [
    {
     "data": {
      "image/png": "[encoded data removed]",
      "text/plain": [
       "<Figure size 432x288 with 1 Axes>"
      ]
     },
     "metadata": {
      "needs_background": "light"
     },
     "output_type": "display_data"
    }
   ],
   "source": [
    "list_plot(result, axes_label=(\"x\", \"y\"))"
   ]
  },
  {
   "cell_type": "code",
   "execution_count": 9,
   "metadata": {},
   "outputs": [],
   "source": [
    "tf.reset_default_graph()"
   ]
  },
  {
   "cell_type": "markdown",
   "metadata": {},
   "source": [
    "## Conditioned GP"
   ]
  },
  {
   "cell_type": "markdown",
   "metadata": {},
   "source": [
    "Choose the x-coordinates."
   ]
  },
  {
   "cell_type": "code",
   "execution_count": 10,
   "metadata": {},
   "outputs": [],
   "source": [
    "x_context = tf.constant([[13, 39]], dtype=tf.float32)\n",
    "y_context = tf.constant([[3., 0.5]], dtype=tf.float32)\n",
    "x_target = tf.constant([list(range(50))], dtype=tf.float32)\n",
    "\n",
    "queries = ((x_context, y_context), x_target)"
   ]
  },
  {
   "cell_type": "markdown",
   "metadata": {},
   "source": [
    "Setup a Gaussian process with a squared-exponential kernel of correlation length 10."
   ]
  },
  {
   "cell_type": "code",
   "execution_count": 11,
   "metadata": {},
   "outputs": [],
   "source": [
    "gp = GaussianProcess(queries, lambda x: squared_exponential_kernel(x, 10.))"
   ]
  },
  {
   "cell_type": "markdown",
   "metadata": {},
   "source": [
    "Compute a sample of y-values and stack them with the x-values (`f`). Then do the same with the mean values (`f0`) and confidence interval bounds (`fm` and `fp`)."
   ]
  },
  {
   "cell_type": "code",
   "execution_count": 12,
   "metadata": {},
   "outputs": [],
   "source": [
    "from neuralprocesses.utils.tf_utils import tf_sort_by_col"
   ]
  },
  {
   "cell_type": "code",
   "execution_count": 13,
   "metadata": {},
   "outputs": [],
   "source": [
    "with tf.variable_scope(\"f\"):\n",
    "    f = tf_sort_by_col(tf.transpose(tf.reshape(tf.stack([gp.coordinates, gp.sample]), (2, -1))), 0)\n",
    "    fp = tf_sort_by_col(tf.transpose(tf.reshape(tf.stack([gp.coordinates, gp.mean + gp.standard_deviation]), (2, -1))), 0)\n",
    "    fm = tf_sort_by_col(tf.transpose(tf.reshape(tf.stack([gp.coordinates, gp.mean - gp.standard_deviation]), (2, -1))), 0)\n",
    "    f0 = tf_sort_by_col(tf.transpose(tf.reshape(tf.stack([gp.coordinates, gp.mean]), (2, -1))), 0)"
   ]
  },
  {
   "cell_type": "markdown",
   "metadata": {},
   "source": [
    "Run this Tensorflow graph and print the first few rows of the result."
   ]
  },
  {
   "cell_type": "code",
   "execution_count": 14,
   "metadata": {},
   "outputs": [],
   "source": [
    "with tf.Session() as session:\n",
    "    s, sp, sm, s0 = session.run([f, fp, fm, f0])"
   ]
  },
  {
   "cell_type": "markdown",
   "metadata": {},
   "source": [
    "Plot the function that we just sampled from the GP."
   ]
  },
  {
   "cell_type": "code",
   "execution_count": 15,
   "metadata": {},
   "outputs": [],
   "source": [
    "from neuralprocesses.utils.plotting import list_plot\n",
    "from neuralprocesses.utils.plotting import Color"
   ]
  },
  {
   "cell_type": "code",
   "execution_count": 16,
   "metadata": {},
   "outputs": [
    {
     "data": {
      "image/png": "[encoded data removed]",
      "text/plain": [
       "<Figure size 432x288 with 1 Axes>"
      ]
     },
     "metadata": {
      "needs_background": "light"
     },
     "output_type": "display_data"
    }
   ],
   "source": [
    "list_plot([s, sp, sm, s0],\n",
    "          joined=[False,True,True,True], \n",
    "          mesh=[True,False,False,False],\n",
    "          plot_style=[\n",
    "              Color.color_data(n=0),      # Sample in red\n",
    "              Color.color_data(n=1),      # Confidence interval bounds in blue\n",
    "              Color.color_data(n=1),\n",
    "              Color((0., 0., 0.))],       # Mean in black\n",
    "          axes_label=(\"x\", \"y\"),\n",
    "          filling=[[1,2]]\n",
    "    )"
   ]
  },
  {
   "cell_type": "code",
   "execution_count": 17,
   "metadata": {},
   "outputs": [],
   "source": [
    "tf.reset_default_graph()"
   ]
  },
  {
   "cell_type": "code",
   "execution_count": null,
   "metadata": {},
   "outputs": [],
   "source": []
  }
 ],
 "metadata": {
  "kernelspec": {
   "display_name": "Python 3",
   "language": "python",
   "name": "python3"
  },
  "language_info": {
   "codemirror_mode": {
    "name": "ipython",
    "version": 3
   },
   "file_extension": ".py",
   "mimetype": "text/x-python",
   "name": "python",
   "nbconvert_exporter": "python",
   "pygments_lexer": "ipython3",
   "version": "3.6.7"
  }
 },
 "nbformat": 4,
 "nbformat_minor": 2
}
