{
 "cells": [
  {
   "cell_type": "code",
   "execution_count": 1,
   "metadata": {},
   "outputs": [],
   "source": [
    "import sys\n",
    "sys.path.append(\"../../\")"
   ]
  },
  {
   "cell_type": "markdown",
   "metadata": {},
   "source": [
    "# Reproduction of Figure 3 using a GP model"
   ]
  },
  {
   "cell_type": "markdown",
   "metadata": {},
   "source": [
    "Here I reproduce Figure 3 of Garnelo et al.'s article, using a Gaussian Process (GP) model instead of a Neural Process (NP). \n",
    "This mainly serves as a sanity check and a proof of concept for the general structure of my code."
   ]
  },
  {
   "cell_type": "code",
   "execution_count": 2,
   "metadata": {},
   "outputs": [],
   "source": [
    "import tensorflow as tf\n",
    "\n",
    "from neuralprocesses.np.aux import DataProvider\n",
    "from neuralprocesses.utils.gp import GaussianProcess\n",
    "from neuralprocesses.utils.gp import squared_exponential_kernel"
   ]
  },
  {
   "cell_type": "markdown",
   "metadata": {},
   "source": [
    "We sample functions from a GP with a squared-exponential kernel. For the latter, the correlation length is 2, and the other parameters are default values."
   ]
  },
  {
   "cell_type": "code",
   "execution_count": 3,
   "metadata": {},
   "outputs": [],
   "source": [
    "kernel = lambda x: squared_exponential_kernel(x, 2.)\n",
    "distribution = lambda x: GaussianProcess((None, x), kernel, name=\"distr\")"
   ]
  },
  {
   "cell_type": "markdown",
   "metadata": {},
   "source": [
    "Now we construct the `DataProvider` module, which acts as an interface between the distribution and the model."
   ]
  },
  {
   "cell_type": "code",
   "execution_count": 4,
   "metadata": {},
   "outputs": [],
   "source": [
    "data_provider = DataProvider(distribution, batch_size=1, domain=(-2, 2))"
   ]
  },
  {
   "cell_type": "markdown",
   "metadata": {},
   "source": [
    "The `data_provider` now generates `batch_size` example ground truth functions, sampled from the `distribution`.\n",
    "The `data_for_plotting` property returns two lists of points.\n",
    "The first list contains 100 uniformly random distributed x-coordinates and the corresponding y-values of the ground truth functions.\n",
    "The second list contains 100 x-coordinates that are evenly spaced throughout the function domain and their corresponding y-values of the ground truth functions.\n",
    "We name the two lists `context_points` and `target_points`, respectively."
   ]
  },
  {
   "cell_type": "code",
   "execution_count": 5,
   "metadata": {},
   "outputs": [],
   "source": [
    "data = data_provider.data"
   ]
  },
  {
   "cell_type": "markdown",
   "metadata": {},
   "source": [
    "Like `context_points`, `target_points` is a tuple of two tensors: the x-coordinates and the y-values.\n",
    "We will need both individually."
   ]
  },
  {
   "cell_type": "code",
   "execution_count": 6,
   "metadata": {},
   "outputs": [],
   "source": [
    "x_target = data.queries[1]\n",
    "y_target = data.targets\n",
    "\n",
    "# Repeat all target points SAMPLE_SIZE times\n",
    "SAMPLE_SIZE = 5\n",
    "x_target = tf.reshape(tf.transpose(tf.stack([x_target] * SAMPLE_SIZE), perm=[1, 0, 2]), (SAMPLE_SIZE, -1))\n",
    "y_target = tf.reshape(tf.transpose(tf.stack([y_target] * SAMPLE_SIZE), perm=[1, 0, 2]), (SAMPLE_SIZE, -1))\n",
    "\n",
    "# Transform to [B, n, 2] tensor, where n is the number of context points in each batch (good for plotting)\n",
    "target_points = tf.transpose([x_target, y_target], perm=[1, 2, 0])"
   ]
  },
  {
   "cell_type": "markdown",
   "metadata": {},
   "source": [
    "Randomly pick some context points."
   ]
  },
  {
   "cell_type": "code",
   "execution_count": 7,
   "metadata": {},
   "outputs": [],
   "source": [
    "r = tf.random_shuffle(tf.range(tf.shape(x_target)[1]))\n",
    "x_context = tf.gather(x_target, r, axis=1)\n",
    "y_context = tf.gather(y_target, r, axis=1)\n",
    "\n",
    "# Transform to [B, n, 2] tensor, where n is the number of context points in each batch (good for plotting)\n",
    "context_points = tf.transpose([x_context, y_context], perm=[1, 2, 0])"
   ]
  },
  {
   "cell_type": "markdown",
   "metadata": {},
   "source": [
    "In contrast to the NP model, the GP model does not need to be trained, since we use the same kernel for data generation and for the model.\n",
    "Thus, we create a GP model and provide it with a variable number of context points, as well as the `kernel` defined above."
   ]
  },
  {
   "cell_type": "code",
   "execution_count": 8,
   "metadata": {},
   "outputs": [],
   "source": [
    "model = GaussianProcess(((x_context, y_context), x_target), kernel, name=\"model\")"
   ]
  },
  {
   "cell_type": "code",
   "execution_count": 9,
   "metadata": {},
   "outputs": [],
   "source": [
    "# Transform to [B, n, 2] tensor, where n is the number of context points in each batch (good for plotting)\n",
    "predictions = tf.transpose([x_target, model.sample], perm=[1, 2, 0])"
   ]
  },
  {
   "cell_type": "markdown",
   "metadata": {},
   "source": [
    "For each ground truth, we now sample XXXX functions from the conditioned GP model and compare them visually to the ground truth function."
   ]
  },
  {
   "cell_type": "code",
   "execution_count": 10,
   "metadata": {},
   "outputs": [],
   "source": [
    "with tf.Session() as session:\n",
    "    xc, yc, xt, yt = session.run(\n",
    "        [x_context, y_context, x_target, y_target], \n",
    "        feed_dict={\n",
    "            data_provider.plotting_mode: True\n",
    "        })"
   ]
  },
  {
   "cell_type": "code",
   "execution_count": 17,
   "metadata": {},
   "outputs": [],
   "source": [
    "with tf.Session() as session:\n",
    "    p, t, c = session.run(\n",
    "        [predictions, target_points, context_points], \n",
    "        feed_dict={\n",
    "            x_context: xc[:,:2],\n",
    "            y_context: yc[:,:2],\n",
    "            x_target: xt,\n",
    "            y_target: yt\n",
    "        })"
   ]
  },
  {
   "cell_type": "code",
   "execution_count": 18,
   "metadata": {},
   "outputs": [],
   "source": [
    "from neuralprocesses.utils.plotting import list_plot\n",
    "from neuralprocesses.utils.plotting import Color\n",
    "import numpy as np"
   ]
  },
  {
   "cell_type": "code",
   "execution_count": 19,
   "metadata": {},
   "outputs": [
    {
     "data": {
      "image/png": "[encoded data removed]",
      "text/plain": [
       "<Figure size 432x288 with 1 Axes>"
      ]
     },
     "metadata": {
      "needs_background": "light"
     },
     "output_type": "display_data"
    }
   ],
   "source": [
    "list_plot([p[0], p[1], p[2], p[3], p[4], t[0], c[0]], \n",
    "          joined=[True,True,True,True,True,True,False], \n",
    "          mesh=[False,False,False,False,False,False,True],\n",
    "          plot_style=[\n",
    "              Color((0.7,0.7,0.8)),  # Gray-blue samples from the GP model\n",
    "              Color((0.7,0.7,0.8)),\n",
    "              Color((0.7,0.7,0.8)),\n",
    "              Color((0.7,0.7,0.8)),\n",
    "              Color((0.7,0.7,0.8)),\n",
    "              Color((0.,0.,0.)),     # Black ground truth\n",
    "              {\"Color\": Color.color_data(n=0), \"PointSize\": 350, \"Marker\": \"+\"}  # Red crosses for context points\n",
    "          ]\n",
    "         )"
   ]
  },
  {
   "cell_type": "code",
   "execution_count": null,
   "metadata": {},
   "outputs": [],
   "source": []
  }
 ],
 "metadata": {
  "kernelspec": {
   "display_name": "Python 3",
   "language": "python",
   "name": "python3"
  },
  "language_info": {
   "codemirror_mode": {
    "name": "ipython",
    "version": 3
   },
   "file_extension": ".py",
   "mimetype": "text/x-python",
   "name": "python",
   "nbconvert_exporter": "python",
   "pygments_lexer": "ipython3",
   "version": "3.6.7"
  }
 },
 "nbformat": 4,
 "nbformat_minor": 2
}
