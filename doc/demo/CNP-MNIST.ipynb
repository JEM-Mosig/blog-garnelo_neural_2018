{
 "cells": [
  {
   "cell_type": "code",
   "execution_count": 1,
   "metadata": {},
   "outputs": [],
   "source": [
    "import sys\n",
    "sys.path.append(\"../../\")"
   ]
  },
  {
   "cell_type": "code",
   "execution_count": 2,
   "metadata": {},
   "outputs": [],
   "source": [
    "SAVE_PATH = \"../storage/demo/cnp-MNIST.ckpt\""
   ]
  },
  {
   "cell_type": "code",
   "execution_count": 3,
   "metadata": {},
   "outputs": [],
   "source": [
    "TENSORBOARD_PATH = \"../storage/demo/cnp-MNIST.tb\""
   ]
  },
  {
   "cell_type": "markdown",
   "metadata": {},
   "source": [
    "# MNIST digit recognition with a CNP"
   ]
  },
  {
   "cell_type": "markdown",
   "metadata": {},
   "source": [
    "Here I reproduce Figure 3 of Garnelo et al.'s article on conditional neural processes."
   ]
  },
  {
   "cell_type": "code",
   "execution_count": 35,
   "metadata": {},
   "outputs": [],
   "source": [
    "from tqdm import tqdm     # Dynamic progress bars\n",
    "import glob               # Lets us check if checkpoint files exist\n",
    "import datetime           # Date for tensorboard export\n",
    "import matplotlib as mplt # Image plotting\n",
    "import matplotlib.pyplot as plt  \n",
    "import numpy as np        # \n",
    "import tensorflow as tf   # "
   ]
  },
  {
   "cell_type": "code",
   "execution_count": 5,
   "metadata": {},
   "outputs": [
    {
     "data": {
      "text/plain": [
       "'1.13.1'"
      ]
     },
     "execution_count": 5,
     "metadata": {},
     "output_type": "execute_result"
    }
   ],
   "source": [
    "tf.logging.set_verbosity(tf.logging.ERROR)  # Suppress depreciation warnings\n",
    "tf.__version__"
   ]
  },
  {
   "cell_type": "code",
   "execution_count": 6,
   "metadata": {},
   "outputs": [
    {
     "name": "stdout",
     "output_type": "stream",
     "text": [
      "\n",
      "WARNING: The TensorFlow contrib module will not be included in TensorFlow 2.0.\n",
      "For more information, please see:\n",
      "  * https://github.com/tensorflow/community/blob/master/rfcs/20180907-contrib-sunset.md\n",
      "  * https://github.com/tensorflow/addons\n",
      "If you depend on functionality not listed there, please file an issue.\n",
      "\n"
     ]
    }
   ],
   "source": [
    "from neuralprocesses.np.aux import DataProvider\n",
    "from neuralprocesses.utils.tf_utils import tf_sort_by_col\n",
    "\n",
    "from neuralprocesses.utils.data_processes import MNISTProcess\n",
    "\n",
    "from neuralprocesses.np.cnp import ConditionalNeuralProcess\n",
    "from neuralprocesses.np.encoder import DeterministicMLPEncoder\n",
    "from neuralprocesses.np.decoder import MLPDecoder\n",
    "\n",
    "from neuralprocesses.utils.plotting import list_plot\n",
    "from neuralprocesses.utils.plotting import Color"
   ]
  },
  {
   "cell_type": "code",
   "execution_count": 7,
   "metadata": {},
   "outputs": [],
   "source": [
    "tf.reset_default_graph()\n",
    "tf.set_random_seed(2019)"
   ]
  },
  {
   "cell_type": "markdown",
   "metadata": {},
   "source": [
    "## Data provider"
   ]
  },
  {
   "cell_type": "markdown",
   "metadata": {},
   "source": [
    "Setup a Gaussian process that provides the environment we want to sample from."
   ]
  },
  {
   "cell_type": "code",
   "execution_count": 8,
   "metadata": {},
   "outputs": [],
   "source": [
    "BATCH_SIZE = 32  # ToDo: Can we make this a placeholder?"
   ]
  },
  {
   "cell_type": "code",
   "execution_count": 9,
   "metadata": {},
   "outputs": [],
   "source": [
    "plotting_mode = tf.placeholder(dtype=tf.bool, name=\"plotting_mode\")\n",
    "process = MNISTProcess()\n",
    "data_provider = DataProvider(\n",
    "    process, \n",
    "    batch_size=BATCH_SIZE,\n",
    "    domain=(0, 1),\n",
    "    min_num_context_points=80,\n",
    "    max_num_context_points=300,\n",
    "    min_num_target_points=80,\n",
    "    max_num_target_points=500,\n",
    "    plot_settings={\"num_context\": 28*28, \"num_coordinates\": 28*28}\n",
    ")"
   ]
  },
  {
   "cell_type": "code",
   "execution_count": 10,
   "metadata": {},
   "outputs": [],
   "source": [
    "data = data_provider(plotting_mode=plotting_mode)"
   ]
  },
  {
   "cell_type": "code",
   "execution_count": 11,
   "metadata": {},
   "outputs": [],
   "source": [
    "x_context = data.queries[0][0]\n",
    "y_context = data.queries[0][1]\n",
    "x_target = data.queries[1]"
   ]
  },
  {
   "cell_type": "markdown",
   "metadata": {},
   "source": [
    "## CNP model setup and training"
   ]
  },
  {
   "cell_type": "markdown",
   "metadata": {},
   "source": [
    "### Setup"
   ]
  },
  {
   "cell_type": "code",
   "execution_count": 12,
   "metadata": {},
   "outputs": [],
   "source": [
    "cnp = ConditionalNeuralProcess(\n",
    "    #encoder=DeterministicMLPEncoder([128, 128, 128, 128]),\n",
    "    #decoder=MLPDecoder([128, 128, 128, 128]),\n",
    "    name=\"cnp-model\"\n",
    ")"
   ]
  },
  {
   "cell_type": "code",
   "execution_count": 13,
   "metadata": {},
   "outputs": [],
   "source": [
    "mean, variance, loss = cnp(data)"
   ]
  },
  {
   "cell_type": "code",
   "execution_count": 14,
   "metadata": {},
   "outputs": [],
   "source": [
    "with tf.variable_scope(\"cnp_trainer\"):\n",
    "    global_step = tf.Variable(0, name='global_step', trainable=False)\n",
    "    optimizer = tf.train.AdamOptimizer()\n",
    "    training_step = optimizer.minimize(loss, global_step=global_step)"
   ]
  },
  {
   "cell_type": "markdown",
   "metadata": {},
   "source": [
    "### Training"
   ]
  },
  {
   "cell_type": "code",
   "execution_count": 15,
   "metadata": {},
   "outputs": [],
   "source": [
    "init = tf.global_variables_initializer()\n",
    "saver = tf.train.Saver( \n",
    "            max_to_keep=4, \n",
    "            keep_checkpoint_every_n_hours=1\n",
    "        )"
   ]
  },
  {
   "cell_type": "code",
   "execution_count": 16,
   "metadata": {},
   "outputs": [],
   "source": [
    "with tf.variable_scope(\"summary\"):\n",
    "        tf.summary.scalar(\"loss\", loss)\n",
    "        summary_variables = tf.summary.merge_all()"
   ]
  },
  {
   "cell_type": "code",
   "execution_count": 17,
   "metadata": {},
   "outputs": [
    {
     "name": "stdout",
     "output_type": "stream",
     "text": [
      "Picking up training from ../storage/demo/cnp-MNIST.ckpt/training-380000\n",
      "Initial global step: 380000\n"
     ]
    },
    {
     "name": "stderr",
     "output_type": "stream",
     "text": [
      " 25%|██▍       | 24998/100000 [15:20<47:36, 26.26it/s]  "
     ]
    },
    {
     "data": {
      "image/png": "[encoded data removed]",
      "text/plain": [
       "<Figure size 432x288 with 1 Axes>"
      ]
     },
     "metadata": {
      "needs_background": "light"
     },
     "output_type": "display_data"
    },
    {
     "name": "stderr",
     "output_type": "stream",
     "text": [
      " 50%|████▉     | 49999/100000 [30:32<30:40, 27.17it/s]  "
     ]
    },
    {
     "data": {
      "image/png": "[encoded data removed]",
      "text/plain": [
       "<Figure size 432x288 with 1 Axes>"
      ]
     },
     "metadata": {
      "needs_background": "light"
     },
     "output_type": "display_data"
    },
    {
     "name": "stderr",
     "output_type": "stream",
     "text": [
      " 75%|███████▍  | 74997/100000 [45:55<16:18, 25.55it/s]  "
     ]
    },
    {
     "data": {
      "image/png": "[encoded data removed]",
      "text/plain": [
       "<Figure size 432x288 with 1 Axes>"
      ]
     },
     "metadata": {
      "needs_background": "light"
     },
     "output_type": "display_data"
    },
    {
     "name": "stderr",
     "output_type": "stream",
     "text": [
      "100%|█████████▉| 99997/100000 [1:01:19<00:00, 27.22it/s]"
     ]
    },
    {
     "data": {
      "image/png": "[encoded data removed]",
      "text/plain": [
       "<Figure size 432x288 with 1 Axes>"
      ]
     },
     "metadata": {
      "needs_background": "light"
     },
     "output_type": "display_data"
    },
    {
     "data": {
      "image/png": "[encoded data removed]",
      "text/plain": [
       "<Figure size 432x288 with 1 Axes>"
      ]
     },
     "metadata": {
      "needs_background": "light"
     },
     "output_type": "display_data"
    },
    {
     "name": "stderr",
     "output_type": "stream",
     "text": [
      "100%|██████████| 100000/100000 [1:01:22<00:00,  2.66it/s]\n"
     ]
    },
    {
     "name": "stdout",
     "output_type": "stream",
     "text": [
      "Model saved in: ../storage/demo/cnp-MNIST.ckpt/training\n",
      "Final global step: 480000\n"
     ]
    }
   ],
   "source": [
    "NUM_EPISODES = 100000\n",
    "SAVE_STEP = 25000\n",
    "\n",
    "with tf.Session() as session:\n",
    "    \n",
    "    # Initialize variables\n",
    "    session.run(init)\n",
    "    \n",
    "    # Continue training at last checkpoint, if available\n",
    "    checkpoint = tf.train.latest_checkpoint(SAVE_PATH)\n",
    "    if checkpoint is not None:\n",
    "        print(f\"Picking up training from {checkpoint}\")\n",
    "        saver.restore(session, checkpoint)\n",
    "    \n",
    "    print(f\"Initial global step: {session.run(global_step)}\")\n",
    "\n",
    "    name = datetime.datetime.now().strftime(\"%Y-%m-%d_%H-%M-%S\")\n",
    "    writer = tf.summary.FileWriter(TENSORBOARD_PATH + \"/\" + name, session.graph)\n",
    "\n",
    "    # Do training\n",
    "    for episode in tqdm(range(1, NUM_EPISODES + 1)):\n",
    "        _, summary = session.run([training_step, summary_variables], \n",
    "                                    feed_dict={plotting_mode: False})\n",
    "\n",
    "        if episode % 10 == 0:\n",
    "            writer.add_summary(summary, episode)\n",
    "\n",
    "        if episode % SAVE_STEP == 0 or episode == NUM_EPISODES - 1:\n",
    "            saver.save(session, SAVE_PATH + \"/training\", global_step=global_step)\n",
    "\n",
    "            img = session.run(tf.reshape(mean[0], (28, 28)), feed_dict={plotting_mode: True})\n",
    "            plt.imshow(img)\n",
    "            plt.show()\n",
    "\n",
    "    # Save resulting graph\n",
    "    saver.save(session, SAVE_PATH + \"/training\", global_step=global_step)\n",
    "    print(\"Model saved in: \" + SAVE_PATH + \"/training\")\n",
    "    print(f\"Final global step: {session.run(global_step)}\")\n",
    "\n",
    "    # Finish writing for tensorboard\n",
    "    writer.close()"
   ]
  },
  {
   "cell_type": "markdown",
   "metadata": {},
   "source": [
    "### Prediction function"
   ]
  },
  {
   "cell_type": "code",
   "execution_count": 18,
   "metadata": {},
   "outputs": [],
   "source": [
    "def cnp_predict(xc, yc):\n",
    "    with tf.Session() as session:\n",
    "        checkpoint = tf.train.latest_checkpoint(SAVE_PATH)\n",
    "        if checkpoint is not None:\n",
    "            saver.restore(session, checkpoint)\n",
    "        else:\n",
    "            raise RuntimeError(\"No checkpoint.\")\n",
    "        \n",
    "        xt = np.arange(0, 28**2, dtype=float)/28**2\n",
    "        batch_size = BATCH_SIZE  # ToDo: How can we change the batch size after loading?\n",
    "\n",
    "        # Compute a test case for plotting\n",
    "        m, v, l = session.run(\n",
    "            [tf.reshape(mean[0], (28, 28)), tf.reshape(variance[0], (28, 28)), loss],\n",
    "            feed_dict={\n",
    "                plotting_mode: True,\n",
    "                data.queries[0][0]: [xc for b in range(batch_size)],\n",
    "                data.queries[0][1]: [yc for b in range(batch_size)],\n",
    "                data.queries[1]: [xt for b in range(batch_size)],\n",
    "                data.num_context: len(xc),\n",
    "                data.num_target: len(xt)\n",
    "            }\n",
    "        )\n",
    "        \n",
    "        return m, v"
   ]
  },
  {
   "cell_type": "code",
   "execution_count": 48,
   "metadata": {},
   "outputs": [],
   "source": [
    "def example(k):\n",
    "    # Context point plot\n",
    "    c = np.ones((28, 28)) * np.nan\n",
    "    pixel_coordinates = [list(divmod(x, 28)) for x in (xc[:k] * (28**2-1)).astype(int)]\n",
    "    for i in range(len(pixel_coordinates)):\n",
    "        u, v = pixel_coordinates[i]\n",
    "        c[u, v] = yc[i]\n",
    "        \n",
    "    # Mean and variance plots\n",
    "    m, v = cnp_predict(xc[:k], yc[:k])\n",
    "    _, axarr = plt.subplots(1, 3)\n",
    "    \n",
    "    axarr[0].imshow(c)\n",
    "    axarr[0].set_title('context points')\n",
    "    axarr[1].imshow(m)\n",
    "    axarr[1].set_title('mean')\n",
    "    axarr[2].imshow(v)\n",
    "    axarr[2].set_title('variance')"
   ]
  },
  {
   "cell_type": "markdown",
   "metadata": {},
   "source": [
    "Generate an example to test with."
   ]
  },
  {
   "cell_type": "code",
   "execution_count": 21,
   "metadata": {},
   "outputs": [],
   "source": [
    "def prepare_example(i):\n",
    "    with tf.Session() as session:\n",
    "        global xc, yc, xt, yt\n",
    "        xc, yc, xt, yt = session.run([\n",
    "            x_context[i], y_context[i], x_target[i], data.targets[i]], feed_dict={plotting_mode: True})"
   ]
  },
  {
   "cell_type": "code",
   "execution_count": 55,
   "metadata": {},
   "outputs": [],
   "source": [
    "prepare_example(0)"
   ]
  },
  {
   "cell_type": "code",
   "execution_count": 56,
   "metadata": {},
   "outputs": [
    {
     "data": {
      "image/png": "[encoded data removed]",
      "text/plain": [
       "<Figure size 432x288 with 3 Axes>"
      ]
     },
     "metadata": {
      "needs_background": "light"
     },
     "output_type": "display_data"
    }
   ],
   "source": [
    "example(10)"
   ]
  },
  {
   "cell_type": "code",
   "execution_count": 57,
   "metadata": {},
   "outputs": [
    {
     "data": {
      "image/png": "[encoded data removed]",
      "text/plain": [
       "<Figure size 432x288 with 3 Axes>"
      ]
     },
     "metadata": {
      "needs_background": "light"
     },
     "output_type": "display_data"
    }
   ],
   "source": [
    "example(100)"
   ]
  },
  {
   "cell_type": "code",
   "execution_count": 58,
   "metadata": {},
   "outputs": [
    {
     "data": {
      "image/png": "[encoded data removed]",
      "text/plain": [
       "<Figure size 432x288 with 3 Axes>"
      ]
     },
     "metadata": {
      "needs_background": "light"
     },
     "output_type": "display_data"
    }
   ],
   "source": [
    "example(28*28)"
   ]
  },
  {
   "cell_type": "code",
   "execution_count": 50,
   "metadata": {},
   "outputs": [],
   "source": [
    "prepare_example(1)"
   ]
  },
  {
   "cell_type": "code",
   "execution_count": 51,
   "metadata": {},
   "outputs": [
    {
     "data": {
      "image/png": "[encoded data removed]",
      "text/plain": [
       "<Figure size 432x288 with 3 Axes>"
      ]
     },
     "metadata": {
      "needs_background": "light"
     },
     "output_type": "display_data"
    }
   ],
   "source": [
    "example(10)"
   ]
  },
  {
   "cell_type": "code",
   "execution_count": 52,
   "metadata": {},
   "outputs": [
    {
     "data": {
      "image/png": "[encoded data removed]",
      "text/plain": [
       "<Figure size 432x288 with 3 Axes>"
      ]
     },
     "metadata": {
      "needs_background": "light"
     },
     "output_type": "display_data"
    }
   ],
   "source": [
    "example(100)"
   ]
  },
  {
   "cell_type": "code",
   "execution_count": 54,
   "metadata": {},
   "outputs": [
    {
     "data": {
      "image/png": "[encoded data removed]",
      "text/plain": [
       "<Figure size 432x288 with 3 Axes>"
      ]
     },
     "metadata": {
      "needs_background": "light"
     },
     "output_type": "display_data"
    }
   ],
   "source": [
    "example(28*28)"
   ]
  },
  {
   "cell_type": "code",
   "execution_count": null,
   "metadata": {},
   "outputs": [],
   "source": []
  }
 ],
 "metadata": {
  "kernelspec": {
   "display_name": "Python 3",
   "language": "python",
   "name": "python3"
  },
  "language_info": {
   "codemirror_mode": {
    "name": "ipython",
    "version": 3
   },
   "file_extension": ".py",
   "mimetype": "text/x-python",
   "name": "python",
   "nbconvert_exporter": "python",
   "pygments_lexer": "ipython3",
   "version": "3.6.7"
  }
 },
 "nbformat": 4,
 "nbformat_minor": 2
}
